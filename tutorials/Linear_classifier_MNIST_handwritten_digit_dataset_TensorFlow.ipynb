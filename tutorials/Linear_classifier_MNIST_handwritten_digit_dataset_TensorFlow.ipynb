{
  "nbformat": 4,
  "nbformat_minor": 0,
  "metadata": {
    "colab": {
      "name": "Linear_classifier_MNIST_handwritten_digit_dataset_TensorFlow.ipynb",
      "provenance": [],
      "collapsed_sections": [],
      "include_colab_link": true
    },
    "kernelspec": {
      "name": "python3",
      "display_name": "Python 3"
    }
  },
  "cells": [
    {
      "cell_type": "markdown",
      "metadata": {
        "id": "view-in-github",
        "colab_type": "text"
      },
      "source": [
        "<a href=\"https://colab.research.google.com/github/aizardar/tensorflow-tutorials/blob/master/tutorials/Linear_classifier_MNIST_handwritten_digit_dataset_TensorFlow.ipynb\" target=\"_parent\"><img src=\"https://colab.research.google.com/assets/colab-badge.svg\" alt=\"Open In Colab\"/></a>"
      ]
    },
    {
      "cell_type": "markdown",
      "metadata": {
        "id": "p-sq2HG4xlAU",
        "colab_type": "text"
      },
      "source": [
        "# A linear classifier for the MNIST handwritten digit dataset in **TensorFlow** (Inspired from https://harishnarayanan.org/writing/artistic-style-transfer/)"
      ]
    },
    {
      "cell_type": "code",
      "metadata": {
        "id": "5WRcjnw2u0_1",
        "colab_type": "code",
        "colab": {}
      },
      "source": [
        "import tensorflow as tf\n",
        "from tensorflow.examples.tutorials.mnist import input_data"
      ],
      "execution_count": 0,
      "outputs": []
    },
    {
      "cell_type": "code",
      "metadata": {
        "id": "RMy2be3Tu4aT",
        "colab_type": "code",
        "colab": {}
      },
      "source": [
        "import matplotlib.pyplot as plt\n",
        "%matplotlib inline\n",
        "plt.rcParams['figure.figsize'] = (5.0, 4.0)\n",
        "plt.rcParams['image.cmap'] = 'Greys'"
      ],
      "execution_count": 0,
      "outputs": []
    },
    {
      "cell_type": "code",
      "metadata": {
        "id": "fM2LBU56vq61",
        "colab_type": "code",
        "colab": {}
      },
      "source": [
        "import numpy as np\n",
        "np.set_printoptions(suppress=True)\n",
        "np.set_printoptions(precision=2)"
      ],
      "execution_count": 0,
      "outputs": []
    },
    {
      "cell_type": "code",
      "metadata": {
        "id": "gu6MGWtLvt9C",
        "colab_type": "code",
        "outputId": "20985eb9-a6ed-41d8-b45b-28a901f8618e",
        "colab": {
          "base_uri": "https://localhost:8080/",
          "height": 530
        }
      },
      "source": [
        "mnist = input_data.read_data_sets(\"MNIST_data/\", one_hot=True)\n"
      ],
      "execution_count": 0,
      "outputs": [
        {
          "output_type": "stream",
          "text": [
            "WARNING:tensorflow:From <ipython-input-5-a839aeb82f4b>:1: read_data_sets (from tensorflow.contrib.learn.python.learn.datasets.mnist) is deprecated and will be removed in a future version.\n",
            "Instructions for updating:\n",
            "Please use alternatives such as official/mnist/dataset.py from tensorflow/models.\n",
            "WARNING:tensorflow:From /usr/local/lib/python3.6/dist-packages/tensorflow_core/contrib/learn/python/learn/datasets/mnist.py:260: maybe_download (from tensorflow.contrib.learn.python.learn.datasets.base) is deprecated and will be removed in a future version.\n",
            "Instructions for updating:\n",
            "Please write your own downloading logic.\n",
            "WARNING:tensorflow:From /usr/local/lib/python3.6/dist-packages/tensorflow_core/contrib/learn/python/learn/datasets/base.py:252: _internal_retry.<locals>.wrap.<locals>.wrapped_fn (from tensorflow.contrib.learn.python.learn.datasets.base) is deprecated and will be removed in a future version.\n",
            "Instructions for updating:\n",
            "Please use urllib or similar directly.\n",
            "Successfully downloaded train-images-idx3-ubyte.gz 9912422 bytes.\n",
            "WARNING:tensorflow:From /usr/local/lib/python3.6/dist-packages/tensorflow_core/contrib/learn/python/learn/datasets/mnist.py:262: extract_images (from tensorflow.contrib.learn.python.learn.datasets.mnist) is deprecated and will be removed in a future version.\n",
            "Instructions for updating:\n",
            "Please use tf.data to implement this functionality.\n",
            "Extracting MNIST_data/train-images-idx3-ubyte.gz\n",
            "Successfully downloaded train-labels-idx1-ubyte.gz 28881 bytes.\n",
            "WARNING:tensorflow:From /usr/local/lib/python3.6/dist-packages/tensorflow_core/contrib/learn/python/learn/datasets/mnist.py:267: extract_labels (from tensorflow.contrib.learn.python.learn.datasets.mnist) is deprecated and will be removed in a future version.\n",
            "Instructions for updating:\n",
            "Please use tf.data to implement this functionality.\n",
            "Extracting MNIST_data/train-labels-idx1-ubyte.gz\n",
            "WARNING:tensorflow:From /usr/local/lib/python3.6/dist-packages/tensorflow_core/contrib/learn/python/learn/datasets/mnist.py:110: dense_to_one_hot (from tensorflow.contrib.learn.python.learn.datasets.mnist) is deprecated and will be removed in a future version.\n",
            "Instructions for updating:\n",
            "Please use tf.one_hot on tensors.\n",
            "Successfully downloaded t10k-images-idx3-ubyte.gz 1648877 bytes.\n",
            "Extracting MNIST_data/t10k-images-idx3-ubyte.gz\n",
            "Successfully downloaded t10k-labels-idx1-ubyte.gz 4542 bytes.\n",
            "Extracting MNIST_data/t10k-labels-idx1-ubyte.gz\n",
            "WARNING:tensorflow:From /usr/local/lib/python3.6/dist-packages/tensorflow_core/contrib/learn/python/learn/datasets/mnist.py:290: DataSet.__init__ (from tensorflow.contrib.learn.python.learn.datasets.mnist) is deprecated and will be removed in a future version.\n",
            "Instructions for updating:\n",
            "Please use alternatives such as official/mnist/dataset.py from tensorflow/models.\n"
          ],
          "name": "stdout"
        }
      ]
    },
    {
      "cell_type": "code",
      "metadata": {
        "id": "AMLrv53Cvy08",
        "colab_type": "code",
        "outputId": "ca0001ec-3e99-45ca-97ee-1d25a45c2256",
        "colab": {
          "base_uri": "https://localhost:8080/",
          "height": 51
        }
      },
      "source": [
        "print (mnist.train.images.shape)\n",
        "print (mnist.train.labels.shape)"
      ],
      "execution_count": 0,
      "outputs": [
        {
          "output_type": "stream",
          "text": [
            "(55000, 784)\n",
            "(55000, 10)\n"
          ],
          "name": "stdout"
        }
      ]
    },
    {
      "cell_type": "code",
      "metadata": {
        "id": "QtBXDGZlwA8V",
        "colab_type": "code",
        "outputId": "ff148717-7aae-4941-d081-eeed97db079b",
        "colab": {
          "base_uri": "https://localhost:8080/",
          "height": 51
        }
      },
      "source": [
        "print (mnist.test.images.shape)\n",
        "print (mnist.test.labels.shape)"
      ],
      "execution_count": 0,
      "outputs": [
        {
          "output_type": "stream",
          "text": [
            "(10000, 784)\n",
            "(10000, 10)\n"
          ],
          "name": "stdout"
        }
      ]
    },
    {
      "cell_type": "code",
      "metadata": {
        "id": "CJzoBmIRwLrx",
        "colab_type": "code",
        "outputId": "49798e2c-e762-4052-a001-f911c56e6921",
        "colab": {
          "base_uri": "https://localhost:8080/",
          "height": 1000
        }
      },
      "source": [
        "example_image = mnist.train.images[7]\n",
        "example_image_reshaped = example_image.reshape((28, 28)) # Can't render a line of 784 numbers\n",
        "example_label = mnist.train.labels[7]\n",
        "\n",
        "print (example_image)\n",
        "plt.imshow(example_image_reshaped)\n"
      ],
      "execution_count": 0,
      "outputs": [
        {
          "output_type": "stream",
          "text": [
            "[0.   0.   0.   0.   0.   0.   0.   0.   0.   0.   0.   0.   0.   0.\n",
            " 0.   0.   0.   0.   0.   0.   0.   0.   0.   0.   0.   0.   0.   0.\n",
            " 0.   0.   0.   0.   0.   0.   0.   0.   0.   0.   0.   0.   0.   0.\n",
            " 0.   0.   0.   0.   0.   0.   0.   0.   0.   0.   0.   0.   0.   0.\n",
            " 0.   0.   0.   0.   0.   0.   0.   0.   0.   0.   0.   0.   0.   0.\n",
            " 0.   0.   0.   0.   0.   0.   0.   0.   0.   0.   0.   0.   0.   0.\n",
            " 0.   0.   0.   0.   0.   0.   0.   0.   0.   0.   0.   0.   0.   0.\n",
            " 0.   0.   0.   0.   0.   0.   0.   0.   0.   0.   0.   0.   0.   0.\n",
            " 0.   0.   0.   0.   0.   0.   0.   0.   0.   0.   0.   0.   0.   0.16\n",
            " 0.6  1.   0.6  0.   0.   0.   0.   0.   0.   0.   0.   0.   0.   0.\n",
            " 0.   0.   0.   0.   0.   0.   0.   0.   0.   0.   0.   0.   0.37 0.89\n",
            " 0.99 0.99 0.89 0.   0.   0.36 0.05 0.   0.   0.   0.   0.   0.   0.\n",
            " 0.   0.   0.   0.   0.   0.   0.   0.   0.   0.   0.02 0.3  0.98 0.99\n",
            " 0.99 0.99 0.89 0.   0.41 0.98 0.85 0.34 0.   0.   0.   0.   0.   0.\n",
            " 0.   0.   0.   0.   0.   0.   0.   0.   0.   0.   0.47 0.99 0.99 0.99\n",
            " 0.99 0.84 0.4  0.   0.49 0.99 0.99 0.93 0.34 0.   0.   0.   0.   0.\n",
            " 0.   0.   0.   0.   0.   0.   0.   0.   0.   0.02 0.65 0.99 0.99 0.99\n",
            " 0.88 0.23 0.   0.   0.49 0.99 0.99 0.99 0.94 0.55 0.   0.   0.   0.\n",
            " 0.   0.   0.   0.   0.   0.   0.   0.   0.01 0.48 0.99 0.99 0.99 0.75\n",
            " 0.07 0.   0.   0.   0.2  0.62 0.98 0.99 0.99 0.38 0.   0.   0.   0.\n",
            " 0.   0.   0.   0.   0.   0.   0.   0.   0.22 0.99 0.99 0.99 0.77 0.05\n",
            " 0.   0.   0.   0.   0.   0.   0.86 0.99 0.99 0.38 0.   0.   0.   0.\n",
            " 0.   0.   0.   0.   0.   0.   0.   0.36 0.85 0.99 0.99 0.77 0.03 0.\n",
            " 0.   0.   0.   0.   0.   0.   0.86 0.99 0.99 0.38 0.   0.   0.   0.\n",
            " 0.   0.   0.   0.   0.   0.   0.14 0.89 0.99 0.99 0.75 0.05 0.   0.\n",
            " 0.   0.   0.   0.   0.   0.15 0.91 0.99 0.94 0.24 0.   0.   0.   0.\n",
            " 0.   0.   0.   0.   0.   0.   0.82 0.99 0.99 0.99 0.4  0.   0.   0.\n",
            " 0.   0.   0.   0.   0.   0.55 0.99 0.99 0.83 0.   0.   0.   0.   0.\n",
            " 0.   0.   0.   0.   0.   0.34 0.97 0.99 0.95 0.73 0.11 0.   0.   0.\n",
            " 0.   0.   0.   0.   0.09 0.95 0.99 0.99 0.73 0.   0.   0.   0.   0.\n",
            " 0.   0.   0.   0.   0.   0.46 0.99 0.99 0.78 0.   0.   0.   0.   0.\n",
            " 0.   0.   0.   0.   0.49 0.99 0.99 0.96 0.26 0.   0.   0.   0.   0.\n",
            " 0.   0.   0.   0.   0.   0.46 0.99 0.99 0.47 0.   0.   0.   0.   0.\n",
            " 0.   0.   0.   0.   0.5  0.99 0.99 0.75 0.   0.   0.   0.   0.   0.\n",
            " 0.   0.   0.   0.   0.   0.46 0.99 0.99 0.24 0.   0.   0.   0.   0.\n",
            " 0.   0.   0.   0.29 0.99 0.99 0.99 0.49 0.   0.   0.   0.   0.   0.\n",
            " 0.   0.   0.   0.   0.   0.46 0.99 0.99 0.75 0.   0.   0.   0.   0.\n",
            " 0.   0.08 0.47 0.97 0.99 0.99 0.86 0.13 0.   0.   0.   0.   0.   0.\n",
            " 0.   0.   0.   0.   0.   0.46 0.99 0.99 0.85 0.11 0.   0.   0.   0.12\n",
            " 0.47 0.89 0.99 0.99 0.99 0.99 0.2  0.   0.   0.   0.   0.   0.   0.\n",
            " 0.   0.   0.   0.   0.   0.1  0.8  0.99 0.99 0.85 0.78 0.78 0.78 0.85\n",
            " 0.99 0.99 0.99 0.99 0.87 0.53 0.03 0.   0.   0.   0.   0.   0.   0.\n",
            " 0.   0.   0.   0.   0.   0.   0.32 0.97 0.99 0.99 0.99 0.99 0.99 0.99\n",
            " 0.99 0.99 0.98 0.82 0.15 0.   0.   0.   0.   0.   0.   0.   0.   0.\n",
            " 0.   0.   0.   0.   0.   0.   0.   0.77 0.93 0.99 0.99 0.99 0.99 0.99\n",
            " 0.99 0.83 0.33 0.   0.   0.   0.   0.   0.   0.   0.   0.   0.   0.\n",
            " 0.   0.   0.   0.   0.   0.   0.   0.   0.1  0.45 0.78 0.99 0.47 0.45\n",
            " 0.45 0.12 0.   0.   0.   0.   0.   0.   0.   0.   0.   0.   0.   0.\n",
            " 0.   0.   0.   0.   0.   0.   0.   0.   0.   0.   0.   0.   0.   0.\n",
            " 0.   0.   0.   0.   0.   0.   0.   0.   0.   0.   0.   0.   0.   0.\n",
            " 0.   0.   0.   0.   0.   0.   0.   0.   0.   0.   0.   0.   0.   0.\n",
            " 0.   0.   0.   0.   0.   0.   0.   0.   0.   0.   0.   0.   0.   0.\n",
            " 0.   0.   0.   0.   0.   0.   0.   0.   0.   0.   0.   0.   0.   0.\n",
            " 0.   0.   0.   0.   0.   0.   0.   0.   0.   0.   0.   0.   0.   0.\n",
            " 0.   0.   0.   0.   0.   0.   0.   0.   0.   0.   0.   0.   0.   0.\n",
            " 0.   0.   0.   0.   0.   0.   0.   0.   0.   0.   0.   0.   0.   0.  ]\n"
          ],
          "name": "stdout"
        },
        {
          "output_type": "execute_result",
          "data": {
            "text/plain": [
              "<matplotlib.image.AxesImage at 0x7fef6c7c40b8>"
            ]
          },
          "metadata": {
            "tags": []
          },
          "execution_count": 9
        },
        {
          "output_type": "display_data",
          "data": {
            "image/png": "[encoded data removed]",
            "text/plain": [
              "<Figure size 360x288 with 1 Axes>"
            ]
          },
          "metadata": {
            "tags": []
          }
        }
      ]
    },
    {
      "cell_type": "code",
      "metadata": {
        "id": "Ry3RY2DXwcdk",
        "colab_type": "code",
        "outputId": "70a36f36-2351-48e5-e022-54dfa9c8156b",
        "colab": {
          "base_uri": "https://localhost:8080/",
          "height": 34
        }
      },
      "source": [
        "print (example_label)"
      ],
      "execution_count": 0,
      "outputs": [
        {
          "output_type": "stream",
          "text": [
            "[1. 0. 0. 0. 0. 0. 0. 0. 0. 0.]\n"
          ],
          "name": "stdout"
        }
      ]
    },
    {
      "cell_type": "markdown",
      "metadata": {
        "id": "LCEouAYFxYod",
        "colab_type": "text"
      },
      "source": [
        "# **Setting up a score function, loss function and optimisation algorithm**"
      ]
    },
    {
      "cell_type": "code",
      "metadata": {
        "id": "-L25_amdx20j",
        "colab_type": "code",
        "colab": {}
      },
      "source": [
        ""
      ],
      "execution_count": 0,
      "outputs": []
    },
    {
      "cell_type": "markdown",
      "metadata": {
        "id": "R2Xl5bzh1MOe",
        "colab_type": "text"
      },
      "source": [
        "# Placeholders to hold batches of this training data **bold text** **bold text**"
      ]
    },
    {
      "cell_type": "code",
      "metadata": {
        "id": "CMmEVhin1Uj4",
        "colab_type": "code",
        "colab": {}
      },
      "source": [
        "x_train = tf.placeholder(tf.float32, [None,784])\n",
        "y_train = tf.placeholder(tf.float32, [None,10])"
      ],
      "execution_count": 0,
      "outputs": []
    },
    {
      "cell_type": "markdown",
      "metadata": {
        "id": "ody9wuZh2HF4",
        "colab_type": "text"
      },
      "source": [
        "# Setting up **paramters**"
      ]
    },
    {
      "cell_type": "code",
      "metadata": {
        "id": "oOuTg8rk1mAj",
        "colab_type": "code",
        "colab": {}
      },
      "source": [
        "W = tf.Variable(tf.zeros([784,10]))\n",
        "b = tf.Variable(tf.zeros([10]))\n",
        "y = tf.nn.softmax(tf.matmul(x_train,W) + b)"
      ],
      "execution_count": 0,
      "outputs": []
    },
    {
      "cell_type": "markdown",
      "metadata": {
        "id": "HxKBpFW425e6",
        "colab_type": "text"
      },
      "source": [
        "# We define our loss function to measure how poorly this model performs on images with known labels. We use the a specific form called the cross entropy loss.**bold text**"
      ]
    },
    {
      "cell_type": "code",
      "metadata": {
        "id": "qfV_N5LO3Bqe",
        "colab_type": "code",
        "colab": {}
      },
      "source": [
        "cross_entropy = tf.reduce_mean(-tf.reduce_sum(y_train*tf.log(y), reduction_indices=[1]))\n"
      ],
      "execution_count": 0,
      "outputs": []
    },
    {
      "cell_type": "code",
      "metadata": {
        "id": "NsZCeggp3eLK",
        "colab_type": "code",
        "colab": {}
      },
      "source": [
        "train_step = tf.train.GradientDescentOptimizer(0.5).minimize(cross_entropy)\n"
      ],
      "execution_count": 0,
      "outputs": []
    },
    {
      "cell_type": "markdown",
      "metadata": {
        "id": "wKNf-8w73zg2",
        "colab_type": "text"
      },
      "source": [
        "# Training the **model**"
      ]
    },
    {
      "cell_type": "code",
      "metadata": {
        "id": "G24d_29Q3l0j",
        "colab_type": "code",
        "colab": {}
      },
      "source": [
        "init = tf.global_variables_initializer()\n",
        "sess = tf.Session()\n",
        "sess.run(init)"
      ],
      "execution_count": 0,
      "outputs": []
    },
    {
      "cell_type": "markdown",
      "metadata": {
        "id": "ArYw2S_A4LKL",
        "colab_type": "text"
      },
      "source": [
        "# We train the model iteratively for 1000 steps, loading a batch of example images each time.**bold text**"
      ]
    },
    {
      "cell_type": "code",
      "metadata": {
        "id": "92TUXpgY4CaF",
        "colab_type": "code",
        "colab": {}
      },
      "source": [
        "for i in range(1000):\n",
        "  batch_xs, batch_ys = mnist.train.next_batch(100)\n",
        "  sess.run(train_step, feed_dict={x_train: batch_xs, y_train: batch_ys})"
      ],
      "execution_count": 0,
      "outputs": []
    },
    {
      "cell_type": "code",
      "metadata": {
        "id": "s6bBtptu4Qpn",
        "colab_type": "code",
        "outputId": "d3924cc0-59a2-4123-e21a-2292c520b4e8",
        "colab": {
          "base_uri": "https://localhost:8080/",
          "height": 34
        }
      },
      "source": [
        "correct_prediction = tf.equal(tf.argmax(y, 1), tf.argmax(y_train, 1))\n",
        "accuracy = tf.reduce_mean(tf.cast(correct_prediction, tf.float32))\n",
        "print(sess.run(accuracy, feed_dict={x_train: mnist.test.images, y_train: mnist.test.labels}))"
      ],
      "execution_count": 0,
      "outputs": [
        {
          "output_type": "stream",
          "text": [
            "0.919\n"
          ],
          "name": "stdout"
        }
      ]
    },
    {
      "cell_type": "code",
      "metadata": {
        "id": "Sxkp4Ulk-s2O",
        "colab_type": "code",
        "colab": {}
      },
      "source": [
        ""
      ],
      "execution_count": 0,
      "outputs": []
    }
  ]
}